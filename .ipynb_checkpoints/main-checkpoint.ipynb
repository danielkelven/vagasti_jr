{
 "cells": [
  {
   "cell_type": "code",
   "execution_count": 30,
   "metadata": {},
   "outputs": [],
   "source": [
    "from selenium import webdriver\n",
    "from selenium.webdriver import ActionChains\n",
    "from selenium.webdriver.common.by import By\n",
    "from selenium.webdriver.common.actions.wheel_input import ScrollOrigin\n",
    "import regex as re"
   ]
  },
  {
   "cell_type": "code",
   "execution_count": 31,
   "metadata": {},
   "outputs": [],
   "source": [
    "driver = webdriver.Chrome()"
   ]
  },
  {
   "cell_type": "code",
   "execution_count": 32,
   "metadata": {},
   "outputs": [],
   "source": [
    "driver.get(\"https://portal.gupy.io/\")"
   ]
  },
  {
   "cell_type": "code",
   "execution_count": 33,
   "metadata": {},
   "outputs": [],
   "source": [
    "driver.find_element('xpath','//*[@id=\"radix-0\"]/div[2]/button').click()"
   ]
  },
  {
   "cell_type": "code",
   "execution_count": 34,
   "metadata": {},
   "outputs": [],
   "source": [
    "driver.find_element('xpath','//*[@id=\"undefined-input\"]').send_keys('Júnior')"
   ]
  },
  {
   "cell_type": "code",
   "execution_count": 35,
   "metadata": {},
   "outputs": [],
   "source": [
    "driver.find_element('xpath','//*[@id=\"undefined-button\"]').click()"
   ]
  },
  {
   "cell_type": "code",
   "execution_count": 36,
   "metadata": {},
   "outputs": [],
   "source": [
    "driver.find_element('xpath','//*[@id=\"__next\"]/div[3]/div/div/aside/form/fieldset[1]/div[3]/label/div[2]').click()"
   ]
  },
  {
   "cell_type": "code",
   "execution_count": 37,
   "metadata": {},
   "outputs": [
    {
     "name": "stderr",
     "output_type": "stream",
     "text": [
      "<>:4: SyntaxWarning: invalid escape sequence '\\d'\n",
      "<>:4: SyntaxWarning: invalid escape sequence '\\d'\n",
      "C:\\Users\\KELVEN_DESK\\AppData\\Local\\Temp\\ipykernel_14620\\2717183143.py:4: SyntaxWarning: invalid escape sequence '\\d'\n",
      "  total = re.findall(\"^\\d{1,}\",total)\n"
     ]
    }
   ],
   "source": [
    "total = driver.find_element('xpath','//*[@id=\"__next\"]/div[2]/div/p/strong').get_property('textContent')\n",
    "vagas = driver.find_element('xpath','//*[@id=\"__next\"]/div[3]/div/div/main/ul').get_property('childElementCount')\n",
    "\n",
    "total = re.findall(\"^\\d{1,}\",total)\n",
    "total = int(total[0])\n",
    "\n",
    "while vagas < total:\n",
    "    scroll_origin = ScrollOrigin.from_viewport(10, 10)\n",
    "    ActionChains(driver)\\\n",
    "        .scroll_from_origin(scroll_origin, 0, 200)\\\n",
    "        .perform()\n",
    "    vagas = driver.find_element('xpath','//*[@id=\"__next\"]/div[3]/div/div/main/ul').get_property('childElementCount')"
   ]
  },
  {
   "cell_type": "code",
   "execution_count": 65,
   "metadata": {},
   "outputs": [
    {
     "name": "stdout",
     "output_type": "stream",
     "text": [
      "None\n",
      "None\n",
      "b2finance\n",
      "Analista Fiscal Júnior\n",
      "Não informado\n",
      "Remoto\n",
      "Efetivo\n",
      "Também p/ PcD\n",
      "Publicada em: 16/03/2024\n"
     ]
    },
    {
     "ename": "AttributeError",
     "evalue": "'NoneType' object has no attribute 'content'",
     "output_type": "error",
     "traceback": [
      "\u001b[1;31m---------------------------------------------------------------------------\u001b[0m",
      "\u001b[1;31mAttributeError\u001b[0m                            Traceback (most recent call last)",
      "Cell \u001b[1;32mIn[65], line 12\u001b[0m\n\u001b[0;32m     10\u001b[0m \u001b[38;5;28mprint\u001b[39m(\u001b[38;5;28mstr\u001b[39m(li\u001b[38;5;241m.\u001b[39mget_property(\u001b[38;5;124m'\u001b[39m\u001b[38;5;124m__reactProps$08oxuxcd6079.children.props.job.careerPageName\u001b[39m\u001b[38;5;124m'\u001b[39m)))\n\u001b[0;32m     11\u001b[0m \u001b[38;5;28mprint\u001b[39m(li\u001b[38;5;241m.\u001b[39mtext)\n\u001b[1;32m---> 12\u001b[0m \u001b[38;5;28mprint\u001b[39m(\u001b[43mli\u001b[49m\u001b[38;5;241;43m.\u001b[39;49m\u001b[43mget_property\u001b[49m\u001b[43m(\u001b[49m\u001b[38;5;124;43m'\u001b[39;49m\u001b[38;5;124;43mhref\u001b[39;49m\u001b[38;5;124;43m'\u001b[39;49m\u001b[43m)\u001b[49m\u001b[38;5;241;43m.\u001b[39;49m\u001b[43mcontent\u001b[49m)\n\u001b[0;32m     13\u001b[0m \u001b[38;5;28mprint\u001b[39m(\u001b[38;5;124m'\u001b[39m\u001b[38;5;124m--------------------------------------------------------------\u001b[39m\u001b[38;5;124m'\u001b[39m)\n",
      "\u001b[1;31mAttributeError\u001b[0m: 'NoneType' object has no attribute 'content'"
     ]
    }
   ],
   "source": [
    "vagas = driver.find_element('xpath','//*[@id=\"__next\"]/div[3]/div/div/main/ul')\n",
    "\n",
    "# for vaga in vagas:\n",
    "#     for dados in vaga.get_property('[0].__reactProps$08oxuxcd6079.children.props.job'):\n",
    "#         logo = dados.careerPageLogo\n",
    "\n",
    "all_li = vagas.find_elements(By.TAG_NAME,'li')\n",
    "for li in all_li:\n",
    "    print(li.get_property('__reactProps$08oxuxcd6079.children.props.job.careerPageLogo'))\n",
    "    print(str(li.get_property('__reactProps$08oxuxcd6079.children.props.job.careerPageName')))\n",
    "    print(li.text)\n",
    "    print(li.get_property('href'))\n",
    "    print('--------------------------------------------------------------')"
   ]
  },
  {
   "cell_type": "code",
   "execution_count": null,
   "metadata": {},
   "outputs": [],
   "source": []
  },
  {
   "cell_type": "code",
   "execution_count": null,
   "metadata": {},
   "outputs": [],
   "source": []
  },
  {
   "cell_type": "code",
   "execution_count": null,
   "metadata": {},
   "outputs": [],
   "source": []
  },
  {
   "cell_type": "code",
   "execution_count": null,
   "metadata": {},
   "outputs": [],
   "source": []
  },
  {
   "cell_type": "code",
   "execution_count": null,
   "metadata": {},
   "outputs": [],
   "source": []
  },
  {
   "cell_type": "code",
   "execution_count": null,
   "metadata": {},
   "outputs": [],
   "source": []
  },
  {
   "cell_type": "code",
   "execution_count": null,
   "metadata": {},
   "outputs": [],
   "source": []
  }
 ],
 "metadata": {
  "kernelspec": {
   "display_name": "Python 3 (ipykernel)",
   "language": "python",
   "name": "python3"
  },
  "language_info": {
   "codemirror_mode": {
    "name": "ipython",
    "version": 3
   },
   "file_extension": ".py",
   "mimetype": "text/x-python",
   "name": "python",
   "nbconvert_exporter": "python",
   "pygments_lexer": "ipython3",
   "version": "3.12.2"
  }
 },
 "nbformat": 4,
 "nbformat_minor": 4
}
